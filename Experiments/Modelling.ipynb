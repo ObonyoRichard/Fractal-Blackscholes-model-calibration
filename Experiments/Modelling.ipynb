{
  "nbformat": 4,
  "nbformat_minor": 0,
  "metadata": {
    "kernelspec": {
      "display_name": "Python 3",
      "language": "python",
      "name": "python3"
    },
    "language_info": {
      "codemirror_mode": {
        "name": "ipython",
        "version": 3
      },
      "file_extension": ".py",
      "mimetype": "text/x-python",
      "name": "python",
      "nbconvert_exporter": "python",
      "pygments_lexer": "ipython3",
      "version": "3.7.3"
    },
    "colab": {
      "name": "Modelling.ipynb",
      "provenance": []
    }
  },
  "cells": [
    {
      "cell_type": "markdown",
      "metadata": {
        "id": "EidsbIqcEQ0L",
        "colab_type": "text"
      },
      "source": [
        "Below we right a program to calculate hurst exponent from time series data,\n",
        "1.We will start with a program that computes hurst exponent using all the time series data.\n",
        "2.We will then next write a program that computes hurst exponent for each individual month and we average the monthly values to get a hurst exponent.\n"
      ]
    },
    {
      "cell_type": "code",
      "metadata": {
        "id": "fhPDZpg6EQ0N",
        "colab_type": "code",
        "colab": {},
        "outputId": "0120a0d5-c5d6-4a0b-dc5b-94cd06851496"
      },
      "source": [
        "import numpy as np\n",
        "import pandas as pd\n",
        "import matplotlib.pyplot as plt\n",
        "from sklearn.linear_model import LinearRegression\n",
        "from sklearn.model_selection import train_test_split\n",
        "import math as mh\n",
        "data_raw=pd.read_csv('SPY.csv')\n",
        "rdata=data_raw['log return']\n",
        "data=data_raw['Close']\n",
        "dt=1\n",
        "#def rescaled_analysis(data):\n",
        "N=len(data)\n",
        "n=30\n",
        "xval=np.linspace(n,N,(N-n+1))\n",
        "xval=xval.reshape(-1,1)\n",
        "logx=np.log(xval)\n",
        "yval=[0]*len(xval)\n",
        "for t in range(n,N+1):\n",
        "    tpx=rdata[0:t]\n",
        "    Y=tpx-np.mean(tpx)\n",
        "    Z=np.cumsum(Y)\n",
        "    R=max(Z)-min(Z)\n",
        "    S=np.std(tpx)\n",
        "    yval[t-n]=(R/S)    \n",
        "logy=np.log(yval)\n",
        "logy=np.transpose(logy)\n",
        "X_train, X_test, y_train, y_test = train_test_split(logx,logy,random_state=0)\n",
        "lr = LinearRegression().fit(logx,logy)\n",
        "print(\"Training set score: {:.2f}\".format(lr.score(X_train, y_train)))\n",
        "print(\"Test set score: {:.2f}\".format(lr.score(X_test, y_test)))\n",
        "hurst_lr=lr.coef_[0] \n",
        "hurst_lr\n",
        "#return hurst  \n",
        "#rescaled_analysis(data)\n",
        "plt.scatter(logx,logy)\n",
        "plt.plot(logx,logx*hurst_lr+lr.intercept_)\n",
        "plt.xlabel('log(n)')\n",
        "plt.ylabel('log(R/s)')"
      ],
      "execution_count": null,
      "outputs": [
        {
          "output_type": "stream",
          "text": [
            "Training set score: 0.96\n",
            "Test set score: 0.97\n"
          ],
          "name": "stdout"
        },
        {
          "output_type": "execute_result",
          "data": {
            "text/plain": [
              "Text(0, 0.5, 'log(R/s)')"
            ]
          },
          "metadata": {
            "tags": []
          },
          "execution_count": 127
        },
        {
          "output_type": "display_data",
          "data": {
            "image/png": "[encoded data removed]",
            "text/plain": [
              "<Figure size 432x288 with 1 Axes>"
            ]
          },
          "metadata": {
            "tags": [],
            "needs_background": "light"
          }
        }
      ]
    },
    {
      "cell_type": "markdown",
      "metadata": {
        "id": "ao5pk4u9EQ0W",
        "colab_type": "text"
      },
      "source": [
        "computed hurst exponent value"
      ]
    },
    {
      "cell_type": "code",
      "metadata": {
        "id": "Ukx5d6D6EQ0X",
        "colab_type": "code",
        "colab": {},
        "outputId": "9af27450-8a85-494d-f340-e1c142a4ecea"
      },
      "source": [
        "hurst_lr"
      ],
      "execution_count": null,
      "outputs": [
        {
          "output_type": "execute_result",
          "data": {
            "text/plain": [
              "0.6915401668551157"
            ]
          },
          "metadata": {
            "tags": []
          },
          "execution_count": 128
        }
      ]
    },
    {
      "cell_type": "markdown",
      "metadata": {
        "id": "9vfInXoQEQ0d",
        "colab_type": "text"
      },
      "source": [
        "compute standard deviation"
      ]
    },
    {
      "cell_type": "code",
      "metadata": {
        "id": "0lUTsBHGEQ0e",
        "colab_type": "code",
        "colab": {}
      },
      "source": [
        "standard_dev=lambda rdata,dt,hurst:np.sqrt(np.var(rdata)/dt**(2*hurst))\n",
        "std_lr=standard_dev(rdata,dt,hurst_lr)    "
      ],
      "execution_count": null,
      "outputs": []
    },
    {
      "cell_type": "markdown",
      "metadata": {
        "id": "JvKCU9irEQ0l",
        "colab_type": "text"
      },
      "source": [
        "computing dirft(mean) "
      ]
    },
    {
      "cell_type": "code",
      "metadata": {
        "id": "RBUq8kOWEQ0m",
        "colab_type": "code",
        "colab": {},
        "outputId": "2353a37b-65e4-4e6b-c1f0-1f086fe12166"
      },
      "source": [
        "mean_frac=lambda rdata,dt,standard_dev:np.mean(rdata)/dt+(standard_dev**2)/2\n",
        "mean_frac(rdata,dt,standard_dev(rdata,dt,hurst_lr))"
      ],
      "execution_count": null,
      "outputs": [
        {
          "output_type": "execute_result",
          "data": {
            "text/plain": [
              "0.00042565600593014175"
            ]
          },
          "metadata": {
            "tags": []
          },
          "execution_count": 130
        }
      ]
    },
    {
      "cell_type": "markdown",
      "metadata": {
        "id": "j8kgwjkmEQ0r",
        "colab_type": "text"
      },
      "source": [
        "we build algorithm to compute hurst exponent for 30 days,  \n",
        "we then have a time series of hurst exponent numbers for varous months from jan 1 1920 to 25 october 2019"
      ]
    },
    {
      "cell_type": "code",
      "metadata": {
        "id": "4wY0E_mkEQ0s",
        "colab_type": "code",
        "colab": {},
        "outputId": "7dcd3751-1399-4fc3-8e51-78e5a3927efe"
      },
      "source": [
        "import numpy as np\n",
        "import pandas as pd\n",
        "import matplotlib.pyplot as plt\n",
        "import math as mh\n",
        "data_raw=pd.read_csv('SPY.csv')\n",
        "rdata=data_raw['log return']\n",
        "data=data_raw['Close']\n",
        "dt=1\n",
        "\n",
        "#function to comupte hurst exponent for a given period.\n",
        "#note the data points must be not less than n=11\n",
        "def rescaled_analysis(data):\n",
        "    N=len(data)\n",
        "    n=11\n",
        "    xval=np.linspace(n,N,(N-n+1))\n",
        "    logx=np.log(xval)\n",
        "    yval=[0]*len(xval)\n",
        "    for t in range(n,N+1):\n",
        "        tpx=data[0:t]\n",
        "        Y=tpx-np.mean(tpx)\n",
        "        Z=np.cumsum(Y)\n",
        "        R=max(Z)-min(Z)\n",
        "        S=np.std(tpx)\n",
        "        yval[t-n]=(R/S)    \n",
        "    logy=np.log(yval)\n",
        "    logy=np.transpose(logy)\n",
        "    hurst=np.polyfit(logx,logy,1)[0]\n",
        "    return hurst \n",
        "\n",
        "#get number of items in our dataset\n",
        "N=len(rdata)\n",
        "#pick data period of 30 days\n",
        "m=30\n",
        "#compute the number of 30 day peroids that canbe got from data\n",
        "l=(round(N/m)-1)*m\n",
        "i=0\n",
        "maza=[0]*(round(N/m)-2)\n",
        "\n",
        "#loop to compute hurst exponent for each period \n",
        "for k in range(m,l,m):\n",
        "    zdata=rdata[i*m:k]\n",
        "    maza[i]=rescaled_analysis(zdata)\n",
        "    i=i+1\n",
        "average=np.mean(maza)\n",
        "\n",
        "#hurst is then comupted as average of all months\n",
        "hurst_average_monthly=average\n",
        "xvex=np.linspace(1,len(maza),len(maza))\n",
        "plt.plot(xvex,maza)\n",
        "plt.xlabel(\"months from jan 1920\")\n",
        "plt.ylabel('Hurst value')"
      ],
      "execution_count": null,
      "outputs": [
        {
          "output_type": "execute_result",
          "data": {
            "text/plain": [
              "Text(0, 0.5, 'Hurst value')"
            ]
          },
          "metadata": {
            "tags": []
          },
          "execution_count": 131
        },
        {
          "output_type": "display_data",
          "data": {
            "image/png": "[encoded data removed]",
            "text/plain": [
              "<Figure size 432x288 with 1 Axes>"
            ]
          },
          "metadata": {
            "tags": [],
            "needs_background": "light"
          }
        }
      ]
    },
    {
      "cell_type": "markdown",
      "metadata": {
        "id": "WBHCbY06EQ0y",
        "colab_type": "text"
      },
      "source": [
        "compute volatility \n"
      ]
    },
    {
      "cell_type": "code",
      "metadata": {
        "id": "4wSbUTDoEQ0z",
        "colab_type": "code",
        "colab": {}
      },
      "source": [
        "standard_dev=lambda rdata,dt,hurst:np.sqrt(np.var(rdata)/dt**(2*hurst))\n",
        "standard_dev_monthly_av=standard_dev(rdata,dt,average) "
      ],
      "execution_count": null,
      "outputs": []
    },
    {
      "cell_type": "code",
      "metadata": {
        "id": "0cMaHjy2EQ05",
        "colab_type": "code",
        "colab": {},
        "outputId": "65c2433e-109a-4d18-d217-9ed4a65ab974"
      },
      "source": [
        "hurst_average_monthly"
      ],
      "execution_count": null,
      "outputs": [
        {
          "output_type": "execute_result",
          "data": {
            "text/plain": [
              "0.5538427686049417"
            ]
          },
          "metadata": {
            "tags": []
          },
          "execution_count": 133
        }
      ]
    },
    {
      "cell_type": "markdown",
      "metadata": {
        "id": "0TSS3rGMEQ09",
        "colab_type": "text"
      },
      "source": [
        "we compute the drift(mean)"
      ]
    },
    {
      "cell_type": "code",
      "metadata": {
        "id": "5wqL-84NEQ0-",
        "colab_type": "code",
        "colab": {},
        "outputId": "bae8e181-8cb9-4772-be85-e902e4daf824"
      },
      "source": [
        "mean_frac=lambda rdata,dt,standard_dev:np.mean(rdata)/dt+(standard_dev**2)/2\n",
        "mean_frac(rdata,dt,standard_dev(rdata,dt,hurst_average_monthly))"
      ],
      "execution_count": null,
      "outputs": [
        {
          "output_type": "execute_result",
          "data": {
            "text/plain": [
              "0.00042565600593014175"
            ]
          },
          "metadata": {
            "tags": []
          },
          "execution_count": 95
        }
      ]
    },
    {
      "cell_type": "markdown",
      "metadata": {
        "id": "Hplv5h28EQ1D",
        "colab_type": "text"
      },
      "source": [
        "From the plots of our monthly hurst exponent computstions we notice that although there are periods of volatility\n",
        "\n",
        "in the plot of monthly hurst exponent values there appears that the values are oscilating about amean value and showing signs\n",
        "of stationary.\n",
        "\n",
        "We model our hurst exponent monthly data as autoregressive model."
      ]
    },
    {
      "cell_type": "code",
      "metadata": {
        "id": "lQj1cUsCEQ1E",
        "colab_type": "code",
        "colab": {},
        "outputId": "10c9dfe1-4043-48b2-8ff9-564eba3bd1b3"
      },
      "source": [
        "#training Autoregresive model to predict next peorid hurst exponent\n",
        "from statsmodels.tsa.arima_model import ARIMA\n",
        "import statsmodels\n",
        "model=ARIMA(maza,order=(2,0,0))\n",
        "result=model.fit()\n",
        "pred=result.predict(start=len(maza),end=len(maza))\n",
        "predmaz=maza.append(pred)\n",
        "hurst_AR=pred[0]\n",
        "print(\"hurst exponent predicted=\",pred[0])\n",
        "result.summary()"
      ],
      "execution_count": null,
      "outputs": [
        {
          "output_type": "stream",
          "text": [
            "hurst exponent predicted= 0.5633443762145709\n"
          ],
          "name": "stdout"
        },
        {
          "output_type": "execute_result",
          "data": {
            "text/html": [
              "<table class=\"simpletable\">\n",
              "<caption>ARMA Model Results</caption>\n",
              "<tr>\n",
              "  <th>Dep. Variable:</th>         <td>y</td>        <th>  No. Observations:  </th>   <td>222</td>  \n",
              "</tr>\n",
              "<tr>\n",
              "  <th>Model:</th>            <td>ARMA(2, 0)</td>    <th>  Log Likelihood     </th> <td>-23.153</td>\n",
              "</tr>\n",
              "<tr>\n",
              "  <th>Method:</th>             <td>css-mle</td>     <th>  S.D. of innovations</th>  <td>0.269</td> \n",
              "</tr>\n",
              "<tr>\n",
              "  <th>Date:</th>          <td>Tue, 28 Jul 2020</td> <th>  AIC                </th> <td>54.305</td> \n",
              "</tr>\n",
              "<tr>\n",
              "  <th>Time:</th>              <td>21:24:14</td>     <th>  BIC                </th> <td>67.916</td> \n",
              "</tr>\n",
              "<tr>\n",
              "  <th>Sample:</th>                <td>0</td>        <th>  HQIC               </th> <td>59.800</td> \n",
              "</tr>\n",
              "<tr>\n",
              "  <th></th>                       <td> </td>        <th>                     </th>    <td> </td>   \n",
              "</tr>\n",
              "</table>\n",
              "<table class=\"simpletable\">\n",
              "<tr>\n",
              "     <td></td>        <th>coef</th>     <th>std err</th>      <th>z</th>      <th>P>|z|</th>  <th>[0.025</th>    <th>0.975]</th>  \n",
              "</tr>\n",
              "<tr>\n",
              "  <th>const</th>   <td>    0.5538</td> <td>    0.015</td> <td>   36.499</td> <td> 0.000</td> <td>    0.524</td> <td>    0.584</td>\n",
              "</tr>\n",
              "<tr>\n",
              "  <th>ar.L1.y</th> <td>   -0.1402</td> <td>    0.067</td> <td>   -2.095</td> <td> 0.037</td> <td>   -0.271</td> <td>   -0.009</td>\n",
              "</tr>\n",
              "<tr>\n",
              "  <th>ar.L2.y</th> <td>   -0.0487</td> <td>    0.067</td> <td>   -0.728</td> <td> 0.467</td> <td>   -0.180</td> <td>    0.082</td>\n",
              "</tr>\n",
              "</table>\n",
              "<table class=\"simpletable\">\n",
              "<caption>Roots</caption>\n",
              "<tr>\n",
              "    <td></td>   <th>            Real</th>  <th>         Imaginary</th> <th>         Modulus</th>  <th>        Frequency</th>\n",
              "</tr>\n",
              "<tr>\n",
              "  <th>AR.1</th> <td>          -1.4405</td> <td>          -4.2977j</td> <td>           4.5327</td> <td>          -0.3015</td>\n",
              "</tr>\n",
              "<tr>\n",
              "  <th>AR.2</th> <td>          -1.4405</td> <td>          +4.2977j</td> <td>           4.5327</td> <td>           0.3015</td>\n",
              "</tr>\n",
              "</table>"
            ],
            "text/plain": [
              "<class 'statsmodels.iolib.summary.Summary'>\n",
              "\"\"\"\n",
              "                              ARMA Model Results                              \n",
              "==============================================================================\n",
              "Dep. Variable:                      y   No. Observations:                  222\n",
              "Model:                     ARMA(2, 0)   Log Likelihood                 -23.153\n",
              "Method:                       css-mle   S.D. of innovations              0.269\n",
              "Date:                Tue, 28 Jul 2020   AIC                             54.305\n",
              "Time:                        21:24:14   BIC                             67.916\n",
              "Sample:                             0   HQIC                            59.800\n",
              "                                                                              \n",
              "==============================================================================\n",
              "                 coef    std err          z      P>|z|      [0.025      0.975]\n",
              "------------------------------------------------------------------------------\n",
              "const          0.5538      0.015     36.499      0.000       0.524       0.584\n",
              "ar.L1.y       -0.1402      0.067     -2.095      0.037      -0.271      -0.009\n",
              "ar.L2.y       -0.0487      0.067     -0.728      0.467      -0.180       0.082\n",
              "                                    Roots                                    \n",
              "=============================================================================\n",
              "                  Real          Imaginary           Modulus         Frequency\n",
              "-----------------------------------------------------------------------------\n",
              "AR.1           -1.4405           -4.2977j            4.5327           -0.3015\n",
              "AR.2           -1.4405           +4.2977j            4.5327            0.3015\n",
              "-----------------------------------------------------------------------------\n",
              "\"\"\""
            ]
          },
          "metadata": {
            "tags": []
          },
          "execution_count": 134
        }
      ]
    },
    {
      "cell_type": "code",
      "metadata": {
        "id": "IY_wVGpZEQ1I",
        "colab_type": "code",
        "colab": {},
        "outputId": "660213a7-535b-4cba-9ad2-f7b41bad54d0"
      },
      "source": [
        "hurst_AR"
      ],
      "execution_count": null,
      "outputs": [
        {
          "output_type": "execute_result",
          "data": {
            "text/plain": [
              "0.5633443762145709"
            ]
          },
          "metadata": {
            "tags": []
          },
          "execution_count": 135
        }
      ]
    },
    {
      "cell_type": "code",
      "metadata": {
        "id": "BXbF86VqEQ1O",
        "colab_type": "code",
        "colab": {},
        "outputId": "183103c0-1214-4de7-a36e-a3bdc61d10e1"
      },
      "source": [
        "standard_dev_AR=lambda rdata,dt,hurst:np.sqrt(np.var(rdata)/dt**(2*hurst))\n",
        "std_AR=standard_dev_AR(rdata,dt,pred[0]) \n",
        "std_AR"
      ],
      "execution_count": null,
      "outputs": [
        {
          "output_type": "execute_result",
          "data": {
            "text/plain": [
              "0.011453107280975629"
            ]
          },
          "metadata": {
            "tags": []
          },
          "execution_count": 136
        }
      ]
    },
    {
      "cell_type": "markdown",
      "metadata": {
        "id": "cUNbA68FEQ1T",
        "colab_type": "text"
      },
      "source": [
        "when we check the model parameters we notice that the coffients are greater than twice the standard error and are both significant.\n",
        "notice that the predicted value is close to the value got by averaging all the monthly hurst exponent values."
      ]
    },
    {
      "cell_type": "markdown",
      "metadata": {
        "id": "S0cGmyBrEQ1T",
        "colab_type": "text"
      },
      "source": [
        "In the next section we will try to price our options using various hurst exponent and volatility values we obtained using the \n",
        "models we have explore above"
      ]
    },
    {
      "cell_type": "code",
      "metadata": {
        "id": "sP39VAbmEQ1U",
        "colab_type": "code",
        "colab": {}
      },
      "source": [
        "#Fractional BlackScholes model pricing\n",
        "from scipy.stats import norm\n",
        "\n",
        "Φ = norm.cdf\n",
        "\n",
        "d1 = lambda S,K,r,τ,σ,H : (np.log(S/K) + r*τ + 0.5*(σ**2)*(τ**(2*H)))/(σ*np.sqrt(τ**(2*H)))\n",
        "\n",
        "d2 = lambda S,K,r,τ,σ,H : d1(S,K,r,τ,σ,H) - σ*(np.sqrt(τ**(2*H)))\n",
        "                                                                                             \n",
        "def fbsm(S,K,r,τ,σ,H):       \n",
        "  ''' fractional Black-Scholes value of a European call option '''\n",
        "  return S*Φ(d1(S,K,r,τ,σ,H)) - (K*np.exp(-r*τ))*Φ(d2(S,K,r,τ,σ,H))"
      ],
      "execution_count": null,
      "outputs": []
    },
    {
      "cell_type": "code",
      "metadata": {
        "id": "UzqmZQ6yEQ1a",
        "colab_type": "code",
        "colab": {}
      },
      "source": [
        "#Standard Black-Scholes model pricing\n",
        "Φ = norm.cdf\n",
        "\n",
        "dstock1 = lambda S,K,r,τ,σ: ((np.log(S/K) + (r + 0.5*σ**2)*τ))/(σ*np.sqrt(τ))\n",
        "\n",
        "dstock2 = lambda S,K,r,τ,σ: dstock1(S,K,r,τ,σ) - (σ*np.sqrt(τ))\n",
        "\n",
        "def sbsm(S,K,r,τ,σ):    \n",
        "  ''' fractional Black-Scholes value of a European call option '''\n",
        "  return S*Φ(dstock1(S,K,r,τ,σ)) - (K*np.exp(-r*τ))*Φ(dstock2(S,K,r,τ,σ))"
      ],
      "execution_count": null,
      "outputs": []
    },
    {
      "cell_type": "code",
      "metadata": {
        "id": "QvgvfV_GEQ1e",
        "colab_type": "code",
        "colab": {},
        "outputId": "143332b9-15e6-42e8-80e0-f73e913be225"
      },
      "source": [
        "#here we try to price our call options using historical data by using our Autoregressive model (AR) generated\n",
        "#from the monthly hurst exponent data\n",
        "options_data=pd.read_csv('SPY_OptionTrades_Raw_IV.csv')\n",
        "fsbsm_price_AR=[0]*25\n",
        "for i in range(0,25):\n",
        "    fsbsm_price_AR[i]=fbsm(297.92,options_data['Price_strike'][i],0.0174,options_data['Duration'][i]/30,std_AR,hurst_AR)\n",
        "fsbsm_price_AR"
      ],
      "execution_count": null,
      "outputs": [
        {
          "output_type": "execute_result",
          "data": {
            "text/plain": [
              "[23.466890095480892,\n",
              " 0.6443350516516091,\n",
              " 2.961341573117238,\n",
              " 2.961341573117238,\n",
              " 2.2657838962518895,\n",
              " 7.38525977656866,\n",
              " 3.7428821914216712,\n",
              " 1.1813808325102286,\n",
              " 0.1018446365068506,\n",
              " 2.2657838962518895,\n",
              " 4.592976998013853,\n",
              " 0.5159397474387646,\n",
              " 0.7994399656214881,\n",
              " 0.17876058618675472,\n",
              " 0.5628756143828042,\n",
              " 1.1813808325102286,\n",
              " 14.169284817996527,\n",
              " 0.7994399656214881,\n",
              " 0.18453405761565733,\n",
              " 5.126685161461381,\n",
              " 9.489991893070334e-10,\n",
              " 6.428621239923075,\n",
              " 12.257687233641548,\n",
              " 2.9964995956372604,\n",
              " 2.9964995956372604]"
            ]
          },
          "metadata": {
            "tags": []
          },
          "execution_count": 170
        }
      ]
    },
    {
      "cell_type": "code",
      "metadata": {
        "id": "Uos_aBm8EQ1j",
        "colab_type": "code",
        "colab": {},
        "outputId": "a65533f4-d846-4d27-fbed-cabd859c152d"
      },
      "source": [
        "#here we try to price our call options using historical data by using our Autoregressive model (AR)\n",
        "#from the monthly hurst exponent data\n",
        "fsbsm_price_monthly_av=[0]*25\n",
        "for i in range(0,25):\n",
        "    fsbsm_price_monthly_av[i]=fbsm(297.92,options_data['Price_strike'][i],0.0174,options_data['Duration'][i]/30,standard_dev_monthly_av,hurst_average_monthly)\n",
        "fsbsm_price_monthly_av"
      ],
      "execution_count": null,
      "outputs": [
        {
          "output_type": "execute_result",
          "data": {
            "text/plain": [
              "[23.46686711054616,\n",
              " 0.6443350516516091,\n",
              " 2.960665586804623,\n",
              " 2.960665586804623,\n",
              " 2.2649927448815674,\n",
              " 7.385167065191013,\n",
              " 3.742348449690212,\n",
              " 1.1805230078884108,\n",
              " 0.10156636166845345,\n",
              " 2.2649927448815674,\n",
              " 4.592587866407939,\n",
              " 0.5152551915215895,\n",
              " 0.7986440244537647,\n",
              " 0.17982217132463063,\n",
              " 0.5647103467047145,\n",
              " 1.1805230078884108,\n",
              " 14.168886279701269,\n",
              " 0.7986440244537647,\n",
              " 0.1841295856493801,\n",
              " 5.115494778586481,\n",
              " 7.046082086274834e-10,\n",
              " 6.428458927804172,\n",
              " 12.25665167021333,\n",
              " 2.9683436244543486,\n",
              " 2.9683436244543486]"
            ]
          },
          "metadata": {
            "tags": []
          },
          "execution_count": 171
        }
      ]
    },
    {
      "cell_type": "code",
      "metadata": {
        "id": "Bxhs2tJXEQ1n",
        "colab_type": "code",
        "colab": {},
        "outputId": "de23638d-be50-43b6-a3d8-1ead581b3e6c"
      },
      "source": [
        "#here we try to price our call options using historical data by using our a linear model for our historical stock data\n",
        "fsbsm_price_lr=[0]*25\n",
        "for i in range(0,25):\n",
        "    fsbsm_price_lr[i]=fbsm(297.92,options_data['Price_strike'][i],0.0174,options_data['Duration'][i]/30,std_lr,hurst_lr)\n",
        "fsbsm_price_lr"
      ],
      "execution_count": null,
      "outputs": [
        {
          "output_type": "execute_result",
          "data": {
            "text/plain": [
              "[23.467966652876726,\n",
              " 0.6443350516516091,\n",
              " 2.97052233757222,\n",
              " 2.97052233757222,\n",
              " 2.2765139569955863,\n",
              " 7.386541218653463,\n",
              " 3.7501461662726285,\n",
              " 1.1930071682336063,\n",
              " 0.10565425670389672,\n",
              " 2.2765139569955863,\n",
              " 4.598287668635123,\n",
              " 0.5252365393049274,\n",
              " 0.8102348839495335,\n",
              " 0.16486568923379963,\n",
              " 0.5385238224154847,\n",
              " 1.1930071682336063,\n",
              " 14.177808536383054,\n",
              " 0.8102348839495335,\n",
              " 0.19005291938655233,\n",
              " 5.2926121500152306,\n",
              " 3.585941246992254e-08,\n",
              " 6.430853583457576,\n",
              " 12.27756509675902,\n",
              " 3.408531659220017,\n",
              " 3.408531659220017]"
            ]
          },
          "metadata": {
            "tags": []
          },
          "execution_count": 172
        }
      ]
    },
    {
      "cell_type": "code",
      "metadata": {
        "id": "f9QvimLNEQ1s",
        "colab_type": "code",
        "colab": {},
        "outputId": "30e0849d-ccd3-459d-c298-36b79f738d51"
      },
      "source": [
        "sbsm_price=[0]*25\n",
        "a=np.std(rdata)\n",
        "for i in range(0,25):\n",
        "    sbsm_price[i]=sbsm(297.92,options_data['Price_strike'][i],0.0174,(options_data['Duration'][i]/30),a)\n",
        "sbsm_price"
      ],
      "execution_count": null,
      "outputs": [
        {
          "output_type": "execute_result",
          "data": {
            "text/plain": [
              "[23.466790964260156,\n",
              " 0.6443350516516091,\n",
              " 2.9568465950249845,\n",
              " 2.9568465950249845,\n",
              " 2.260520276358534,\n",
              " 7.38464751390876,\n",
              " 3.739335965646717,\n",
              " 1.1756720859632424,\n",
              " 0.10000003107042232,\n",
              " 2.260520276358534,\n",
              " 4.59039439878859,\n",
              " 0.5113877166095477,\n",
              " 0.7941444585067359,\n",
              " 0.18592175924570142,\n",
              " 0.5751857427063101,\n",
              " 1.1756720859632424,\n",
              " 14.167061621798041,\n",
              " 0.7941444585067359,\n",
              " 0.18184942459473064,\n",
              " 5.054841890162578,\n",
              " 1.2004784534925306e-10,\n",
              " 6.427547257457661,\n",
              " 12.25167912257075,\n",
              " 2.8145659905839295,\n",
              " 2.8145659905839295]"
            ]
          },
          "metadata": {
            "tags": []
          },
          "execution_count": 174
        }
      ]
    },
    {
      "cell_type": "code",
      "metadata": {
        "id": "8TXVjidFEQ1w",
        "colab_type": "code",
        "colab": {}
      },
      "source": [
        "sumdata=np.zeros(shape=(26,4))"
      ],
      "execution_count": null,
      "outputs": []
    },
    {
      "cell_type": "code",
      "metadata": {
        "id": "I9wFsWknEQ10",
        "colab_type": "code",
        "colab": {}
      },
      "source": [
        "k=0\n",
        "for k in range(0,3):\n",
        "    if k==0:    \n",
        "        for i in range(0,25):\n",
        "            sumdata[i+1:k]=fsbsm_price_AR[i]\n",
        "    if k==1: \n",
        "        for p in range(0,25):\n",
        "            sumdata[p+1:k]=fsbsm_price_monthly_av[p]\n",
        "    if k==2: \n",
        "        for q in range(0,25):\n",
        "            sumdata[q+1:k]=fsbsm_price_lr[q]\n",
        "    if k==3: \n",
        "        for i in range(0,25):\n",
        "            sumdata[w+1:k]=sbsm_price[w]\n",
        "       "
      ],
      "execution_count": null,
      "outputs": []
    },
    {
      "cell_type": "code",
      "metadata": {
        "id": "vsIWuLoGEQ13",
        "colab_type": "code",
        "colab": {},
        "outputId": "40ee2be9-ed48-4e73-dc27-bc456623419d"
      },
      "source": [
        "sumdata"
      ],
      "execution_count": null,
      "outputs": [
        {
          "output_type": "execute_result",
          "data": {
            "text/plain": [
              "array([[23.46796665, 23.46796665, 23.46796665, 23.46796665],\n",
              "       [23.46796665, 23.46796665, 23.46796665, 23.46796665],\n",
              "       [ 0.        ,  0.        ,  0.        ,  0.        ],\n",
              "       [ 0.        ,  0.        ,  0.        ,  0.        ],\n",
              "       [ 0.        ,  0.        ,  0.        ,  0.        ],\n",
              "       [ 0.        ,  0.        ,  0.        ,  0.        ],\n",
              "       [ 0.        ,  0.        ,  0.        ,  0.        ],\n",
              "       [ 0.        ,  0.        ,  0.        ,  0.        ],\n",
              "       [ 0.        ,  0.        ,  0.        ,  0.        ],\n",
              "       [ 0.        ,  0.        ,  0.        ,  0.        ],\n",
              "       [ 0.        ,  0.        ,  0.        ,  0.        ],\n",
              "       [ 0.        ,  0.        ,  0.        ,  0.        ],\n",
              "       [ 0.        ,  0.        ,  0.        ,  0.        ],\n",
              "       [ 0.        ,  0.        ,  0.        ,  0.        ],\n",
              "       [ 0.        ,  0.        ,  0.        ,  0.        ],\n",
              "       [ 0.        ,  0.        ,  0.        ,  0.        ],\n",
              "       [ 0.        ,  0.        ,  0.        ,  0.        ],\n",
              "       [ 0.        ,  0.        ,  0.        ,  0.        ],\n",
              "       [ 0.        ,  0.        ,  0.        ,  0.        ],\n",
              "       [ 0.        ,  0.        ,  0.        ,  0.        ],\n",
              "       [ 0.        ,  0.        ,  0.        ,  0.        ],\n",
              "       [ 0.        ,  0.        ,  0.        ,  0.        ],\n",
              "       [ 0.        ,  0.        ,  0.        ,  0.        ],\n",
              "       [ 0.        ,  0.        ,  0.        ,  0.        ],\n",
              "       [ 0.        ,  0.        ,  0.        ,  0.        ],\n",
              "       [ 0.        ,  0.        ,  0.        ,  0.        ]])"
            ]
          },
          "metadata": {
            "tags": []
          },
          "execution_count": 211
        }
      ]
    },
    {
      "cell_type": "code",
      "metadata": {
        "id": "8dveurHbEQ17",
        "colab_type": "code",
        "colab": {}
      },
      "source": [
        ""
      ],
      "execution_count": null,
      "outputs": []
    }
  ]
}